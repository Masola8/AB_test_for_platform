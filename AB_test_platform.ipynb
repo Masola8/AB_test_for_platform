{
 "cells": [
  {
   "cell_type": "markdown",
   "metadata": {},
   "source": [
    "# Задание 1"
   ]
  },
  {
   "cell_type": "code",
   "execution_count": 35,
   "metadata": {},
   "outputs": [],
   "source": [
    "# Импортируем требуемые библиотеки\n",
    "import pandahouse as ph\n",
    "import pandas as pd\n",
    "import requests\n",
    "import numpy as np\n",
    "from urllib.parse import urlencode\n",
    "import seaborn as sns\n",
    "import scipy.stats as ss\n",
    "from scipy.stats import chi2_contingency\n",
    "from scipy.stats import bootstrap\n",
    "import matplotlib.pyplot as plt\n",
    "import datetime"
   ]
  },
  {
   "cell_type": "code",
   "execution_count": 22,
   "metadata": {},
   "outputs": [],
   "source": [
    "def get_yandex_file(public_key):\n",
    "    '''Функция загрузки файл с Яндекс.Диска. На вход функции подается ссылка на файл, \n",
    "    в резульате получаем скачанный файл в формате csv'''\n",
    "\n",
    "    base_url = 'https://cloud-api.yandex.net/v1/disk/public/resources/download?'\n",
    "    # Получаем загрузочную ссылку\n",
    "    final_url = base_url + urlencode(dict(public_key=public_key))\n",
    "    response = requests.get(final_url)\n",
    "    download_url = response.json()['href']\n",
    "    return (download_url)"
   ]
  },
  {
   "cell_type": "code",
   "execution_count": 23,
   "metadata": {},
   "outputs": [],
   "source": [
    "# Загружаем файлы и сохраняем их\n",
    "groups = pd.read_csv(get_yandex_file('https://disk.yandex.ru/d/UhyYx41rTt3clQ'), sep = ';')\n",
    "groups_add = pd.read_csv(get_yandex_file('https://disk.yandex.ru/d/5Kxrz02m3IBUwQ'))\n",
    "students = pd.read_csv(get_yandex_file('https://disk.yandex.ru/d/Tbs44Bm6H_FwFQ'))\n",
    "checks = pd.read_csv(get_yandex_file('https://disk.yandex.ru/d/pH1q-VqcxXjsVA'), sep = ';')\n"
   ]
  },
  {
   "cell_type": "markdown",
   "metadata": {},
   "source": [
    "# 1. Подготовка данных"
   ]
  },
  {
   "cell_type": "markdown",
   "metadata": {},
   "source": [
    "Для всех датасетов проверяю корректность типов данных, наличие дублей, пустых строк"
   ]
  },
  {
   "cell_type": "code",
   "execution_count": 5,
   "metadata": {},
   "outputs": [
    {
     "data": {
      "text/plain": [
       "id      int64\n",
       "grp    object\n",
       "dtype: object"
      ]
     },
     "execution_count": 5,
     "metadata": {},
     "output_type": "execute_result"
    }
   ],
   "source": [
    "groups.dtypes"
   ]
  },
  {
   "cell_type": "code",
   "execution_count": 6,
   "metadata": {},
   "outputs": [
    {
     "data": {
      "text/plain": [
       "id     0\n",
       "grp    0\n",
       "dtype: int64"
      ]
     },
     "execution_count": 6,
     "metadata": {},
     "output_type": "execute_result"
    }
   ],
   "source": [
    "groups.isna().sum()"
   ]
  },
  {
   "cell_type": "code",
   "execution_count": 7,
   "metadata": {},
   "outputs": [
    {
     "data": {
      "text/html": [
       "<div>\n",
       "<style scoped>\n",
       "    .dataframe tbody tr th:only-of-type {\n",
       "        vertical-align: middle;\n",
       "    }\n",
       "\n",
       "    .dataframe tbody tr th {\n",
       "        vertical-align: top;\n",
       "    }\n",
       "\n",
       "    .dataframe thead th {\n",
       "        text-align: right;\n",
       "    }\n",
       "</style>\n",
       "<table border=\"1\" class=\"dataframe\">\n",
       "  <thead>\n",
       "    <tr style=\"text-align: right;\">\n",
       "      <th></th>\n",
       "      <th>id</th>\n",
       "      <th>grp</th>\n",
       "    </tr>\n",
       "  </thead>\n",
       "  <tbody>\n",
       "  </tbody>\n",
       "</table>\n",
       "</div>"
      ],
      "text/plain": [
       "Empty DataFrame\n",
       "Columns: [id, grp]\n",
       "Index: []"
      ]
     },
     "execution_count": 7,
     "metadata": {},
     "output_type": "execute_result"
    }
   ],
   "source": [
    "duplicateRows = groups[groups.duplicated()]\n",
    "duplicateRows"
   ]
  },
  {
   "cell_type": "code",
   "execution_count": 9,
   "metadata": {},
   "outputs": [
    {
     "data": {
      "text/plain": [
       "id      int64\n",
       "grp    object\n",
       "dtype: object"
      ]
     },
     "execution_count": 9,
     "metadata": {},
     "output_type": "execute_result"
    }
   ],
   "source": [
    "groups_add.dtypes"
   ]
  },
  {
   "cell_type": "code",
   "execution_count": 28,
   "metadata": {},
   "outputs": [
    {
     "data": {
      "text/plain": [
       "(92, 2)"
      ]
     },
     "execution_count": 28,
     "metadata": {},
     "output_type": "execute_result"
    }
   ],
   "source": [
    "groups_add.shape"
   ]
  },
  {
   "cell_type": "code",
   "execution_count": 10,
   "metadata": {},
   "outputs": [
    {
     "data": {
      "text/plain": [
       "id     0\n",
       "grp    0\n",
       "dtype: int64"
      ]
     },
     "execution_count": 10,
     "metadata": {},
     "output_type": "execute_result"
    }
   ],
   "source": [
    "groups_add.isna().sum()"
   ]
  },
  {
   "cell_type": "code",
   "execution_count": 11,
   "metadata": {},
   "outputs": [
    {
     "data": {
      "text/html": [
       "<div>\n",
       "<style scoped>\n",
       "    .dataframe tbody tr th:only-of-type {\n",
       "        vertical-align: middle;\n",
       "    }\n",
       "\n",
       "    .dataframe tbody tr th {\n",
       "        vertical-align: top;\n",
       "    }\n",
       "\n",
       "    .dataframe thead th {\n",
       "        text-align: right;\n",
       "    }\n",
       "</style>\n",
       "<table border=\"1\" class=\"dataframe\">\n",
       "  <thead>\n",
       "    <tr style=\"text-align: right;\">\n",
       "      <th></th>\n",
       "      <th>id</th>\n",
       "      <th>grp</th>\n",
       "    </tr>\n",
       "  </thead>\n",
       "  <tbody>\n",
       "  </tbody>\n",
       "</table>\n",
       "</div>"
      ],
      "text/plain": [
       "Empty DataFrame\n",
       "Columns: [id, grp]\n",
       "Index: []"
      ]
     },
     "execution_count": 11,
     "metadata": {},
     "output_type": "execute_result"
    }
   ],
   "source": [
    "duplicateRows = groups_add[groups_add.duplicated()]\n",
    "duplicateRows"
   ]
  },
  {
   "cell_type": "code",
   "execution_count": 12,
   "metadata": {},
   "outputs": [
    {
     "data": {
      "text/plain": [
       "student_id    int64\n",
       "dtype: object"
      ]
     },
     "execution_count": 12,
     "metadata": {},
     "output_type": "execute_result"
    }
   ],
   "source": [
    "students.dtypes"
   ]
  },
  {
   "cell_type": "code",
   "execution_count": 13,
   "metadata": {},
   "outputs": [
    {
     "data": {
      "text/plain": [
       "student_id    0\n",
       "dtype: int64"
      ]
     },
     "execution_count": 13,
     "metadata": {},
     "output_type": "execute_result"
    }
   ],
   "source": [
    "students.isna().sum()"
   ]
  },
  {
   "cell_type": "code",
   "execution_count": 14,
   "metadata": {},
   "outputs": [
    {
     "data": {
      "text/html": [
       "<div>\n",
       "<style scoped>\n",
       "    .dataframe tbody tr th:only-of-type {\n",
       "        vertical-align: middle;\n",
       "    }\n",
       "\n",
       "    .dataframe tbody tr th {\n",
       "        vertical-align: top;\n",
       "    }\n",
       "\n",
       "    .dataframe thead th {\n",
       "        text-align: right;\n",
       "    }\n",
       "</style>\n",
       "<table border=\"1\" class=\"dataframe\">\n",
       "  <thead>\n",
       "    <tr style=\"text-align: right;\">\n",
       "      <th></th>\n",
       "      <th>student_id</th>\n",
       "    </tr>\n",
       "  </thead>\n",
       "  <tbody>\n",
       "  </tbody>\n",
       "</table>\n",
       "</div>"
      ],
      "text/plain": [
       "Empty DataFrame\n",
       "Columns: [student_id]\n",
       "Index: []"
      ]
     },
     "execution_count": 14,
     "metadata": {},
     "output_type": "execute_result"
    }
   ],
   "source": [
    "duplicateRows = students[students.duplicated()]\n",
    "duplicateRows"
   ]
  },
  {
   "cell_type": "code",
   "execution_count": 17,
   "metadata": {},
   "outputs": [
    {
     "data": {
      "text/plain": [
       "student_id      int64\n",
       "rev           float64\n",
       "dtype: object"
      ]
     },
     "execution_count": 17,
     "metadata": {},
     "output_type": "execute_result"
    }
   ],
   "source": [
    "checks.dtypes"
   ]
  },
  {
   "cell_type": "code",
   "execution_count": 18,
   "metadata": {},
   "outputs": [
    {
     "data": {
      "text/plain": [
       "student_id    0\n",
       "rev           0\n",
       "dtype: int64"
      ]
     },
     "execution_count": 18,
     "metadata": {},
     "output_type": "execute_result"
    }
   ],
   "source": [
    "checks.isna().sum()"
   ]
  },
  {
   "cell_type": "code",
   "execution_count": 19,
   "metadata": {},
   "outputs": [
    {
     "data": {
      "text/html": [
       "<div>\n",
       "<style scoped>\n",
       "    .dataframe tbody tr th:only-of-type {\n",
       "        vertical-align: middle;\n",
       "    }\n",
       "\n",
       "    .dataframe tbody tr th {\n",
       "        vertical-align: top;\n",
       "    }\n",
       "\n",
       "    .dataframe thead th {\n",
       "        text-align: right;\n",
       "    }\n",
       "</style>\n",
       "<table border=\"1\" class=\"dataframe\">\n",
       "  <thead>\n",
       "    <tr style=\"text-align: right;\">\n",
       "      <th></th>\n",
       "      <th>student_id</th>\n",
       "      <th>rev</th>\n",
       "    </tr>\n",
       "  </thead>\n",
       "  <tbody>\n",
       "  </tbody>\n",
       "</table>\n",
       "</div>"
      ],
      "text/plain": [
       "Empty DataFrame\n",
       "Columns: [student_id, rev]\n",
       "Index: []"
      ]
     },
     "execution_count": 19,
     "metadata": {},
     "output_type": "execute_result"
    }
   ],
   "source": [
    "duplicateRows = checks[checks.duplicated()]\n",
    "duplicateRows"
   ]
  },
  {
   "cell_type": "markdown",
   "metadata": {},
   "source": [
    "Объединяю все данные в один датафрейм. Сначала соединяю 2 файла с информацией о группах пользователей."
   ]
  },
  {
   "cell_type": "code",
   "execution_count": 23,
   "metadata": {},
   "outputs": [
    {
     "data": {
      "text/html": [
       "<div>\n",
       "<style scoped>\n",
       "    .dataframe tbody tr th:only-of-type {\n",
       "        vertical-align: middle;\n",
       "    }\n",
       "\n",
       "    .dataframe tbody tr th {\n",
       "        vertical-align: top;\n",
       "    }\n",
       "\n",
       "    .dataframe thead th {\n",
       "        text-align: right;\n",
       "    }\n",
       "</style>\n",
       "<table border=\"1\" class=\"dataframe\">\n",
       "  <thead>\n",
       "    <tr style=\"text-align: right;\">\n",
       "      <th></th>\n",
       "      <th>id</th>\n",
       "      <th>grp</th>\n",
       "    </tr>\n",
       "  </thead>\n",
       "  <tbody>\n",
       "    <tr>\n",
       "      <th>0</th>\n",
       "      <td>1489</td>\n",
       "      <td>B</td>\n",
       "    </tr>\n",
       "    <tr>\n",
       "      <th>1</th>\n",
       "      <td>1627</td>\n",
       "      <td>A</td>\n",
       "    </tr>\n",
       "    <tr>\n",
       "      <th>2</th>\n",
       "      <td>1768</td>\n",
       "      <td>B</td>\n",
       "    </tr>\n",
       "    <tr>\n",
       "      <th>3</th>\n",
       "      <td>1783</td>\n",
       "      <td>B</td>\n",
       "    </tr>\n",
       "    <tr>\n",
       "      <th>4</th>\n",
       "      <td>1794</td>\n",
       "      <td>A</td>\n",
       "    </tr>\n",
       "    <tr>\n",
       "      <th>...</th>\n",
       "      <td>...</td>\n",
       "      <td>...</td>\n",
       "    </tr>\n",
       "    <tr>\n",
       "      <th>87</th>\n",
       "      <td>200247820</td>\n",
       "      <td>B</td>\n",
       "    </tr>\n",
       "    <tr>\n",
       "      <th>88</th>\n",
       "      <td>201032527</td>\n",
       "      <td>B</td>\n",
       "    </tr>\n",
       "    <tr>\n",
       "      <th>89</th>\n",
       "      <td>201067612</td>\n",
       "      <td>B</td>\n",
       "    </tr>\n",
       "    <tr>\n",
       "      <th>90</th>\n",
       "      <td>201067653</td>\n",
       "      <td>B</td>\n",
       "    </tr>\n",
       "    <tr>\n",
       "      <th>91</th>\n",
       "      <td>201067659</td>\n",
       "      <td>B</td>\n",
       "    </tr>\n",
       "  </tbody>\n",
       "</table>\n",
       "<p>74576 rows × 2 columns</p>\n",
       "</div>"
      ],
      "text/plain": [
       "           id grp\n",
       "0        1489   B\n",
       "1        1627   A\n",
       "2        1768   B\n",
       "3        1783   B\n",
       "4        1794   A\n",
       "..        ...  ..\n",
       "87  200247820   B\n",
       "88  201032527   B\n",
       "89  201067612   B\n",
       "90  201067653   B\n",
       "91  201067659   B\n",
       "\n",
       "[74576 rows x 2 columns]"
      ]
     },
     "execution_count": 23,
     "metadata": {},
     "output_type": "execute_result"
    }
   ],
   "source": [
    "groups_full = pd.concat([groups,groups_add])\n",
    "groups_full                      "
   ]
  },
  {
   "cell_type": "markdown",
   "metadata": {},
   "source": [
    "Проверяю не задублировались ли данные:"
   ]
  },
  {
   "cell_type": "code",
   "execution_count": 5,
   "metadata": {},
   "outputs": [
    {
     "data": {
      "text/plain": [
       "74576"
      ]
     },
     "execution_count": 5,
     "metadata": {},
     "output_type": "execute_result"
    }
   ],
   "source": [
    "groups_full.id.nunique()"
   ]
  },
  {
   "cell_type": "markdown",
   "metadata": {},
   "source": [
    "Кол-во уникальных id и число строк совпадает, значит дублей id нет."
   ]
  },
  {
   "cell_type": "markdown",
   "metadata": {},
   "source": [
    "Добавляю в итоговую таблицу информацию, кто из пользователей был активен. Для этого сначала в таблицу с активными пользователями добавляю столбец \"active\" со значением \"yes\" и переименуем student_id в id для простоты объединения:"
   ]
  },
  {
   "cell_type": "code",
   "execution_count": 5,
   "metadata": {},
   "outputs": [],
   "source": [
    "students['active'] = \"yes\"\n",
    "students = students.rename(columns = {'student_id': 'id'})"
   ]
  },
  {
   "cell_type": "markdown",
   "metadata": {},
   "source": [
    "Затем делаю left join с итоговой таблицей с группами пользователей"
   ]
  },
  {
   "cell_type": "code",
   "execution_count": 8,
   "metadata": {},
   "outputs": [
    {
     "data": {
      "text/html": [
       "<div>\n",
       "<style scoped>\n",
       "    .dataframe tbody tr th:only-of-type {\n",
       "        vertical-align: middle;\n",
       "    }\n",
       "\n",
       "    .dataframe tbody tr th {\n",
       "        vertical-align: top;\n",
       "    }\n",
       "\n",
       "    .dataframe thead th {\n",
       "        text-align: right;\n",
       "    }\n",
       "</style>\n",
       "<table border=\"1\" class=\"dataframe\">\n",
       "  <thead>\n",
       "    <tr style=\"text-align: right;\">\n",
       "      <th></th>\n",
       "      <th>id</th>\n",
       "      <th>grp</th>\n",
       "      <th>active</th>\n",
       "    </tr>\n",
       "  </thead>\n",
       "  <tbody>\n",
       "    <tr>\n",
       "      <th>0</th>\n",
       "      <td>1489</td>\n",
       "      <td>B</td>\n",
       "      <td>NaN</td>\n",
       "    </tr>\n",
       "    <tr>\n",
       "      <th>1</th>\n",
       "      <td>1627</td>\n",
       "      <td>A</td>\n",
       "      <td>yes</td>\n",
       "    </tr>\n",
       "    <tr>\n",
       "      <th>2</th>\n",
       "      <td>1768</td>\n",
       "      <td>B</td>\n",
       "      <td>NaN</td>\n",
       "    </tr>\n",
       "    <tr>\n",
       "      <th>3</th>\n",
       "      <td>1783</td>\n",
       "      <td>B</td>\n",
       "      <td>NaN</td>\n",
       "    </tr>\n",
       "    <tr>\n",
       "      <th>4</th>\n",
       "      <td>1794</td>\n",
       "      <td>A</td>\n",
       "      <td>NaN</td>\n",
       "    </tr>\n",
       "    <tr>\n",
       "      <th>...</th>\n",
       "      <td>...</td>\n",
       "      <td>...</td>\n",
       "      <td>...</td>\n",
       "    </tr>\n",
       "    <tr>\n",
       "      <th>74571</th>\n",
       "      <td>200247820</td>\n",
       "      <td>B</td>\n",
       "      <td>NaN</td>\n",
       "    </tr>\n",
       "    <tr>\n",
       "      <th>74572</th>\n",
       "      <td>201032527</td>\n",
       "      <td>B</td>\n",
       "      <td>NaN</td>\n",
       "    </tr>\n",
       "    <tr>\n",
       "      <th>74573</th>\n",
       "      <td>201067612</td>\n",
       "      <td>B</td>\n",
       "      <td>NaN</td>\n",
       "    </tr>\n",
       "    <tr>\n",
       "      <th>74574</th>\n",
       "      <td>201067653</td>\n",
       "      <td>B</td>\n",
       "      <td>NaN</td>\n",
       "    </tr>\n",
       "    <tr>\n",
       "      <th>74575</th>\n",
       "      <td>201067659</td>\n",
       "      <td>B</td>\n",
       "      <td>NaN</td>\n",
       "    </tr>\n",
       "  </tbody>\n",
       "</table>\n",
       "<p>74576 rows × 3 columns</p>\n",
       "</div>"
      ],
      "text/plain": [
       "              id grp active\n",
       "0           1489   B    NaN\n",
       "1           1627   A    yes\n",
       "2           1768   B    NaN\n",
       "3           1783   B    NaN\n",
       "4           1794   A    NaN\n",
       "...          ...  ..    ...\n",
       "74571  200247820   B    NaN\n",
       "74572  201032527   B    NaN\n",
       "74573  201067612   B    NaN\n",
       "74574  201067653   B    NaN\n",
       "74575  201067659   B    NaN\n",
       "\n",
       "[74576 rows x 3 columns]"
      ]
     },
     "execution_count": 8,
     "metadata": {},
     "output_type": "execute_result"
    }
   ],
   "source": [
    "groups_full = groups_full.merge(students, how = 'left', on = 'id')\n",
    "groups_full"
   ]
  },
  {
   "cell_type": "markdown",
   "metadata": {},
   "source": [
    "В столбце active меняю пустые значения на No"
   ]
  },
  {
   "cell_type": "code",
   "execution_count": 9,
   "metadata": {},
   "outputs": [
    {
     "data": {
      "text/html": [
       "<div>\n",
       "<style scoped>\n",
       "    .dataframe tbody tr th:only-of-type {\n",
       "        vertical-align: middle;\n",
       "    }\n",
       "\n",
       "    .dataframe tbody tr th {\n",
       "        vertical-align: top;\n",
       "    }\n",
       "\n",
       "    .dataframe thead th {\n",
       "        text-align: right;\n",
       "    }\n",
       "</style>\n",
       "<table border=\"1\" class=\"dataframe\">\n",
       "  <thead>\n",
       "    <tr style=\"text-align: right;\">\n",
       "      <th></th>\n",
       "      <th>id</th>\n",
       "      <th>grp</th>\n",
       "      <th>active</th>\n",
       "    </tr>\n",
       "  </thead>\n",
       "  <tbody>\n",
       "    <tr>\n",
       "      <th>0</th>\n",
       "      <td>1489</td>\n",
       "      <td>B</td>\n",
       "      <td>no</td>\n",
       "    </tr>\n",
       "    <tr>\n",
       "      <th>1</th>\n",
       "      <td>1627</td>\n",
       "      <td>A</td>\n",
       "      <td>yes</td>\n",
       "    </tr>\n",
       "    <tr>\n",
       "      <th>2</th>\n",
       "      <td>1768</td>\n",
       "      <td>B</td>\n",
       "      <td>no</td>\n",
       "    </tr>\n",
       "    <tr>\n",
       "      <th>3</th>\n",
       "      <td>1783</td>\n",
       "      <td>B</td>\n",
       "      <td>no</td>\n",
       "    </tr>\n",
       "    <tr>\n",
       "      <th>4</th>\n",
       "      <td>1794</td>\n",
       "      <td>A</td>\n",
       "      <td>no</td>\n",
       "    </tr>\n",
       "    <tr>\n",
       "      <th>...</th>\n",
       "      <td>...</td>\n",
       "      <td>...</td>\n",
       "      <td>...</td>\n",
       "    </tr>\n",
       "    <tr>\n",
       "      <th>74571</th>\n",
       "      <td>200247820</td>\n",
       "      <td>B</td>\n",
       "      <td>no</td>\n",
       "    </tr>\n",
       "    <tr>\n",
       "      <th>74572</th>\n",
       "      <td>201032527</td>\n",
       "      <td>B</td>\n",
       "      <td>no</td>\n",
       "    </tr>\n",
       "    <tr>\n",
       "      <th>74573</th>\n",
       "      <td>201067612</td>\n",
       "      <td>B</td>\n",
       "      <td>no</td>\n",
       "    </tr>\n",
       "    <tr>\n",
       "      <th>74574</th>\n",
       "      <td>201067653</td>\n",
       "      <td>B</td>\n",
       "      <td>no</td>\n",
       "    </tr>\n",
       "    <tr>\n",
       "      <th>74575</th>\n",
       "      <td>201067659</td>\n",
       "      <td>B</td>\n",
       "      <td>no</td>\n",
       "    </tr>\n",
       "  </tbody>\n",
       "</table>\n",
       "<p>74576 rows × 3 columns</p>\n",
       "</div>"
      ],
      "text/plain": [
       "              id grp active\n",
       "0           1489   B     no\n",
       "1           1627   A    yes\n",
       "2           1768   B     no\n",
       "3           1783   B     no\n",
       "4           1794   A     no\n",
       "...          ...  ..    ...\n",
       "74571  200247820   B     no\n",
       "74572  201032527   B     no\n",
       "74573  201067612   B     no\n",
       "74574  201067653   B     no\n",
       "74575  201067659   B     no\n",
       "\n",
       "[74576 rows x 3 columns]"
      ]
     },
     "execution_count": 9,
     "metadata": {},
     "output_type": "execute_result"
    }
   ],
   "source": [
    "groups_full['active'] = groups_full.active.fillna('no')\n",
    "groups_full"
   ]
  },
  {
   "cell_type": "markdown",
   "metadata": {},
   "source": [
    "Добавляю информацию об оплатах. Произвожу left join с таблицей checks и пустые значения заполняю нулями."
   ]
  },
  {
   "cell_type": "code",
   "execution_count": 10,
   "metadata": {},
   "outputs": [],
   "source": [
    "checks = checks.rename(columns={'student_id':'id'})\n",
    "groups_full = groups_full.merge(checks, how = 'left', on = 'id')\n",
    "groups_full['rev'] = groups_full.rev.fillna(0)"
   ]
  },
  {
   "cell_type": "code",
   "execution_count": 10,
   "metadata": {},
   "outputs": [
    {
     "data": {
      "text/html": [
       "<div>\n",
       "<style scoped>\n",
       "    .dataframe tbody tr th:only-of-type {\n",
       "        vertical-align: middle;\n",
       "    }\n",
       "\n",
       "    .dataframe tbody tr th {\n",
       "        vertical-align: top;\n",
       "    }\n",
       "\n",
       "    .dataframe thead th {\n",
       "        text-align: right;\n",
       "    }\n",
       "</style>\n",
       "<table border=\"1\" class=\"dataframe\">\n",
       "  <thead>\n",
       "    <tr style=\"text-align: right;\">\n",
       "      <th></th>\n",
       "      <th>id</th>\n",
       "      <th>grp</th>\n",
       "      <th>active</th>\n",
       "      <th>rev</th>\n",
       "    </tr>\n",
       "  </thead>\n",
       "  <tbody>\n",
       "    <tr>\n",
       "      <th>0</th>\n",
       "      <td>1489</td>\n",
       "      <td>B</td>\n",
       "      <td>no</td>\n",
       "      <td>0.0</td>\n",
       "    </tr>\n",
       "    <tr>\n",
       "      <th>1</th>\n",
       "      <td>1627</td>\n",
       "      <td>A</td>\n",
       "      <td>yes</td>\n",
       "      <td>990.0</td>\n",
       "    </tr>\n",
       "    <tr>\n",
       "      <th>2</th>\n",
       "      <td>1768</td>\n",
       "      <td>B</td>\n",
       "      <td>no</td>\n",
       "      <td>0.0</td>\n",
       "    </tr>\n",
       "    <tr>\n",
       "      <th>3</th>\n",
       "      <td>1783</td>\n",
       "      <td>B</td>\n",
       "      <td>no</td>\n",
       "      <td>0.0</td>\n",
       "    </tr>\n",
       "    <tr>\n",
       "      <th>4</th>\n",
       "      <td>1794</td>\n",
       "      <td>A</td>\n",
       "      <td>no</td>\n",
       "      <td>0.0</td>\n",
       "    </tr>\n",
       "    <tr>\n",
       "      <th>...</th>\n",
       "      <td>...</td>\n",
       "      <td>...</td>\n",
       "      <td>...</td>\n",
       "      <td>...</td>\n",
       "    </tr>\n",
       "    <tr>\n",
       "      <th>74571</th>\n",
       "      <td>200247820</td>\n",
       "      <td>B</td>\n",
       "      <td>no</td>\n",
       "      <td>0.0</td>\n",
       "    </tr>\n",
       "    <tr>\n",
       "      <th>74572</th>\n",
       "      <td>201032527</td>\n",
       "      <td>B</td>\n",
       "      <td>no</td>\n",
       "      <td>0.0</td>\n",
       "    </tr>\n",
       "    <tr>\n",
       "      <th>74573</th>\n",
       "      <td>201067612</td>\n",
       "      <td>B</td>\n",
       "      <td>no</td>\n",
       "      <td>0.0</td>\n",
       "    </tr>\n",
       "    <tr>\n",
       "      <th>74574</th>\n",
       "      <td>201067653</td>\n",
       "      <td>B</td>\n",
       "      <td>no</td>\n",
       "      <td>0.0</td>\n",
       "    </tr>\n",
       "    <tr>\n",
       "      <th>74575</th>\n",
       "      <td>201067659</td>\n",
       "      <td>B</td>\n",
       "      <td>no</td>\n",
       "      <td>0.0</td>\n",
       "    </tr>\n",
       "  </tbody>\n",
       "</table>\n",
       "<p>74576 rows × 4 columns</p>\n",
       "</div>"
      ],
      "text/plain": [
       "              id grp active    rev\n",
       "0           1489   B     no    0.0\n",
       "1           1627   A    yes  990.0\n",
       "2           1768   B     no    0.0\n",
       "3           1783   B     no    0.0\n",
       "4           1794   A     no    0.0\n",
       "...          ...  ..    ...    ...\n",
       "74571  200247820   B     no    0.0\n",
       "74572  201032527   B     no    0.0\n",
       "74573  201067612   B     no    0.0\n",
       "74574  201067653   B     no    0.0\n",
       "74575  201067659   B     no    0.0\n",
       "\n",
       "[74576 rows x 4 columns]"
      ]
     },
     "execution_count": 10,
     "metadata": {},
     "output_type": "execute_result"
    }
   ],
   "source": [
    "groups_full"
   ]
  },
  {
   "cell_type": "code",
   "execution_count": 11,
   "metadata": {},
   "outputs": [
    {
     "data": {
      "text/plain": [
       "541"
      ]
     },
     "execution_count": 11,
     "metadata": {},
     "output_type": "execute_result"
    }
   ],
   "source": [
    "checks.id.nunique()"
   ]
  },
  {
   "cell_type": "markdown",
   "metadata": {},
   "source": [
    "Произведу проверку, были ли среди пользователей те, которые произвели оплату, не заходя на сайт (т.е. неактивные). "
   ]
  },
  {
   "cell_type": "code",
   "execution_count": 11,
   "metadata": {},
   "outputs": [
    {
     "data": {
      "text/html": [
       "<div>\n",
       "<style scoped>\n",
       "    .dataframe tbody tr th:only-of-type {\n",
       "        vertical-align: middle;\n",
       "    }\n",
       "\n",
       "    .dataframe tbody tr th {\n",
       "        vertical-align: top;\n",
       "    }\n",
       "\n",
       "    .dataframe thead th {\n",
       "        text-align: right;\n",
       "    }\n",
       "</style>\n",
       "<table border=\"1\" class=\"dataframe\">\n",
       "  <thead>\n",
       "    <tr style=\"text-align: right;\">\n",
       "      <th></th>\n",
       "      <th>id</th>\n",
       "      <th>grp</th>\n",
       "      <th>active</th>\n",
       "      <th>rev</th>\n",
       "    </tr>\n",
       "  </thead>\n",
       "  <tbody>\n",
       "    <tr>\n",
       "      <th>39</th>\n",
       "      <td>3185</td>\n",
       "      <td>B</td>\n",
       "      <td>no</td>\n",
       "      <td>690.0</td>\n",
       "    </tr>\n",
       "    <tr>\n",
       "      <th>121</th>\n",
       "      <td>25973</td>\n",
       "      <td>B</td>\n",
       "      <td>no</td>\n",
       "      <td>690.0</td>\n",
       "    </tr>\n",
       "    <tr>\n",
       "      <th>125</th>\n",
       "      <td>26280</td>\n",
       "      <td>B</td>\n",
       "      <td>no</td>\n",
       "      <td>690.0</td>\n",
       "    </tr>\n",
       "    <tr>\n",
       "      <th>223</th>\n",
       "      <td>100645</td>\n",
       "      <td>B</td>\n",
       "      <td>no</td>\n",
       "      <td>630.0</td>\n",
       "    </tr>\n",
       "    <tr>\n",
       "      <th>254</th>\n",
       "      <td>102534</td>\n",
       "      <td>B</td>\n",
       "      <td>no</td>\n",
       "      <td>580.0</td>\n",
       "    </tr>\n",
       "    <tr>\n",
       "      <th>...</th>\n",
       "      <td>...</td>\n",
       "      <td>...</td>\n",
       "      <td>...</td>\n",
       "      <td>...</td>\n",
       "    </tr>\n",
       "    <tr>\n",
       "      <th>72452</th>\n",
       "      <td>5291900</td>\n",
       "      <td>B</td>\n",
       "      <td>no</td>\n",
       "      <td>199.0</td>\n",
       "    </tr>\n",
       "    <tr>\n",
       "      <th>72753</th>\n",
       "      <td>5331842</td>\n",
       "      <td>B</td>\n",
       "      <td>no</td>\n",
       "      <td>290.0</td>\n",
       "    </tr>\n",
       "    <tr>\n",
       "      <th>73632</th>\n",
       "      <td>5486319</td>\n",
       "      <td>B</td>\n",
       "      <td>no</td>\n",
       "      <td>199.0</td>\n",
       "    </tr>\n",
       "    <tr>\n",
       "      <th>74049</th>\n",
       "      <td>5562806</td>\n",
       "      <td>B</td>\n",
       "      <td>no</td>\n",
       "      <td>398.0</td>\n",
       "    </tr>\n",
       "    <tr>\n",
       "      <th>74216</th>\n",
       "      <td>5599663</td>\n",
       "      <td>B</td>\n",
       "      <td>no</td>\n",
       "      <td>1900.0</td>\n",
       "    </tr>\n",
       "  </tbody>\n",
       "</table>\n",
       "<p>149 rows × 4 columns</p>\n",
       "</div>"
      ],
      "text/plain": [
       "            id grp active     rev\n",
       "39        3185   B     no   690.0\n",
       "121      25973   B     no   690.0\n",
       "125      26280   B     no   690.0\n",
       "223     100645   B     no   630.0\n",
       "254     102534   B     no   580.0\n",
       "...        ...  ..    ...     ...\n",
       "72452  5291900   B     no   199.0\n",
       "72753  5331842   B     no   290.0\n",
       "73632  5486319   B     no   199.0\n",
       "74049  5562806   B     no   398.0\n",
       "74216  5599663   B     no  1900.0\n",
       "\n",
       "[149 rows x 4 columns]"
      ]
     },
     "execution_count": 11,
     "metadata": {},
     "output_type": "execute_result"
    }
   ],
   "source": [
    "groups_full_mistake = groups_full.query('active == \"no\" & rev > 0')\n",
    "groups_full_mistake"
   ]
  },
  {
   "cell_type": "code",
   "execution_count": 12,
   "metadata": {},
   "outputs": [
    {
     "data": {
      "text/html": [
       "<div>\n",
       "<style scoped>\n",
       "    .dataframe tbody tr th:only-of-type {\n",
       "        vertical-align: middle;\n",
       "    }\n",
       "\n",
       "    .dataframe tbody tr th {\n",
       "        vertical-align: top;\n",
       "    }\n",
       "\n",
       "    .dataframe thead th {\n",
       "        text-align: right;\n",
       "    }\n",
       "</style>\n",
       "<table border=\"1\" class=\"dataframe\">\n",
       "  <thead>\n",
       "    <tr style=\"text-align: right;\">\n",
       "      <th></th>\n",
       "      <th>id</th>\n",
       "      <th>grp</th>\n",
       "      <th>active</th>\n",
       "      <th>rev</th>\n",
       "    </tr>\n",
       "  </thead>\n",
       "  <tbody>\n",
       "    <tr>\n",
       "      <th>3779</th>\n",
       "      <td>264473</td>\n",
       "      <td>B</td>\n",
       "      <td>yes</td>\n",
       "      <td>1900.0001</td>\n",
       "    </tr>\n",
       "  </tbody>\n",
       "</table>\n",
       "</div>"
      ],
      "text/plain": [
       "          id grp active        rev\n",
       "3779  264473   B    yes  1900.0001"
      ]
     },
     "execution_count": 12,
     "metadata": {},
     "output_type": "execute_result"
    }
   ],
   "source": [
    "err = groups_full.query('id == 264473')\n",
    "err"
   ]
  },
  {
   "cell_type": "markdown",
   "metadata": {},
   "source": [
    "Вижу, что в таблице 140 строк с такой ошибкой. Необходимо сообщить разработчикам,что требуется проверка, откуда появляется данная ошибка, т.к. неактивных оплат не может быть."
   ]
  },
  {
   "cell_type": "markdown",
   "metadata": {},
   "source": [
    "# 2. Выбор и расчет метрик"
   ]
  },
  {
   "cell_type": "markdown",
   "metadata": {},
   "source": [
    "Т.к. новое изменение связано с оплатой, метрики также должны быть связаны с этапом оплаты продукта.\n",
    "Для проверки гипотезы выбираю 3 метрики:\n",
    "    1. CR - конверсия активного пользователя в покупку. Выбираю именно конверсию активного пользователя, т.к. те, кто не заходил на платформу, даже не видели новой функции и не могут участововать в эксперименте. CR=Кол-во активных пользователей, совершивших покупку/общее кол-во активных пользователей\n",
    "    2. ARPAU - средний чек активного пользователя. Также беру только активных пользователей, т.к. те, кто не заходил на платформу, даже не видели новой функции. ARPAU=Общая сумма прибыли от активных пользователей/кол-во активных пользователей\n",
    "    3. ARPPU - средний чек активного платящего пользователя.Беру только платящих пользователей, т.к. те, кто не оплачивал, мог не увидеть новой механики. ARPPU=Общая сумма прибыли от активных пользователей/кол-во платящих активных пользователей"
   ]
  },
  {
   "cell_type": "markdown",
   "metadata": {},
   "source": [
    "## 2.1 Проверяем гипотезу, что вырос CR (конверсия активного пользователя в покупку) после внедрения новой механики оплаты на сайте"
   ]
  },
  {
   "cell_type": "markdown",
   "metadata": {},
   "source": [
    "Добавляю новый столбец buy, который будет =1, если покупка совершена и 0, если покупки не было. Т.е. 1- если пользоатель сконвертировался и 0, если не конвертировался.\n"
   ]
  },
  {
   "cell_type": "code",
   "execution_count": 16,
   "metadata": {},
   "outputs": [
    {
     "name": "stderr",
     "output_type": "stream",
     "text": [
      "/opt/tljh/user/lib/python3.7/site-packages/ipykernel_launcher.py:2: SettingWithCopyWarning: \n",
      "A value is trying to be set on a copy of a slice from a DataFrame.\n",
      "Try using .loc[row_indexer,col_indexer] = value instead\n",
      "\n",
      "See the caveats in the documentation: https://pandas.pydata.org/pandas-docs/stable/user_guide/indexing.html#returning-a-view-versus-a-copy\n",
      "  \n"
     ]
    },
    {
     "data": {
      "text/html": [
       "<div>\n",
       "<style scoped>\n",
       "    .dataframe tbody tr th:only-of-type {\n",
       "        vertical-align: middle;\n",
       "    }\n",
       "\n",
       "    .dataframe tbody tr th {\n",
       "        vertical-align: top;\n",
       "    }\n",
       "\n",
       "    .dataframe thead th {\n",
       "        text-align: right;\n",
       "    }\n",
       "</style>\n",
       "<table border=\"1\" class=\"dataframe\">\n",
       "  <thead>\n",
       "    <tr style=\"text-align: right;\">\n",
       "      <th></th>\n",
       "      <th>id</th>\n",
       "      <th>grp</th>\n",
       "      <th>active</th>\n",
       "      <th>rev</th>\n",
       "      <th>buy</th>\n",
       "    </tr>\n",
       "  </thead>\n",
       "  <tbody>\n",
       "    <tr>\n",
       "      <th>1</th>\n",
       "      <td>1627</td>\n",
       "      <td>A</td>\n",
       "      <td>yes</td>\n",
       "      <td>990.0</td>\n",
       "      <td>1</td>\n",
       "    </tr>\n",
       "    <tr>\n",
       "      <th>10</th>\n",
       "      <td>2085</td>\n",
       "      <td>B</td>\n",
       "      <td>yes</td>\n",
       "      <td>0.0</td>\n",
       "      <td>0</td>\n",
       "    </tr>\n",
       "    <tr>\n",
       "      <th>12</th>\n",
       "      <td>2215</td>\n",
       "      <td>B</td>\n",
       "      <td>yes</td>\n",
       "      <td>0.0</td>\n",
       "      <td>0</td>\n",
       "    </tr>\n",
       "    <tr>\n",
       "      <th>43</th>\n",
       "      <td>3391</td>\n",
       "      <td>A</td>\n",
       "      <td>yes</td>\n",
       "      <td>0.0</td>\n",
       "      <td>0</td>\n",
       "    </tr>\n",
       "    <tr>\n",
       "      <th>45</th>\n",
       "      <td>3401</td>\n",
       "      <td>B</td>\n",
       "      <td>yes</td>\n",
       "      <td>0.0</td>\n",
       "      <td>0</td>\n",
       "    </tr>\n",
       "    <tr>\n",
       "      <th>...</th>\n",
       "      <td>...</td>\n",
       "      <td>...</td>\n",
       "      <td>...</td>\n",
       "      <td>...</td>\n",
       "      <td>...</td>\n",
       "    </tr>\n",
       "    <tr>\n",
       "      <th>74543</th>\n",
       "      <td>5760471</td>\n",
       "      <td>B</td>\n",
       "      <td>yes</td>\n",
       "      <td>0.0</td>\n",
       "      <td>0</td>\n",
       "    </tr>\n",
       "    <tr>\n",
       "      <th>74545</th>\n",
       "      <td>5777081</td>\n",
       "      <td>B</td>\n",
       "      <td>yes</td>\n",
       "      <td>0.0</td>\n",
       "      <td>0</td>\n",
       "    </tr>\n",
       "    <tr>\n",
       "      <th>74558</th>\n",
       "      <td>5870856</td>\n",
       "      <td>A</td>\n",
       "      <td>yes</td>\n",
       "      <td>0.0</td>\n",
       "      <td>0</td>\n",
       "    </tr>\n",
       "    <tr>\n",
       "      <th>74561</th>\n",
       "      <td>5945085</td>\n",
       "      <td>B</td>\n",
       "      <td>yes</td>\n",
       "      <td>0.0</td>\n",
       "      <td>0</td>\n",
       "    </tr>\n",
       "    <tr>\n",
       "      <th>74562</th>\n",
       "      <td>5951797</td>\n",
       "      <td>B</td>\n",
       "      <td>yes</td>\n",
       "      <td>0.0</td>\n",
       "      <td>0</td>\n",
       "    </tr>\n",
       "  </tbody>\n",
       "</table>\n",
       "<p>8341 rows × 5 columns</p>\n",
       "</div>"
      ],
      "text/plain": [
       "            id grp active    rev  buy\n",
       "1         1627   A    yes  990.0    1\n",
       "10        2085   B    yes    0.0    0\n",
       "12        2215   B    yes    0.0    0\n",
       "43        3391   A    yes    0.0    0\n",
       "45        3401   B    yes    0.0    0\n",
       "...        ...  ..    ...    ...  ...\n",
       "74543  5760471   B    yes    0.0    0\n",
       "74545  5777081   B    yes    0.0    0\n",
       "74558  5870856   A    yes    0.0    0\n",
       "74561  5945085   B    yes    0.0    0\n",
       "74562  5951797   B    yes    0.0    0\n",
       "\n",
       "[8341 rows x 5 columns]"
      ]
     },
     "execution_count": 16,
     "metadata": {},
     "output_type": "execute_result"
    }
   ],
   "source": [
    "active_students = groups_full[groups_full.active == \"yes\"]\n",
    "active_students['buy'] = np.where(active_students['rev'] == 0, 0, 1)\n",
    "active_students\n"
   ]
  },
  {
   "cell_type": "markdown",
   "metadata": {},
   "source": [
    "Считаю CR для каждой группы"
   ]
  },
  {
   "cell_type": "code",
   "execution_count": 17,
   "metadata": {},
   "outputs": [
    {
     "data": {
      "text/html": [
       "<div>\n",
       "<style scoped>\n",
       "    .dataframe tbody tr th:only-of-type {\n",
       "        vertical-align: middle;\n",
       "    }\n",
       "\n",
       "    .dataframe tbody tr th {\n",
       "        vertical-align: top;\n",
       "    }\n",
       "\n",
       "    .dataframe thead th {\n",
       "        text-align: right;\n",
       "    }\n",
       "</style>\n",
       "<table border=\"1\" class=\"dataframe\">\n",
       "  <thead>\n",
       "    <tr style=\"text-align: right;\">\n",
       "      <th></th>\n",
       "      <th>grp</th>\n",
       "      <th>id</th>\n",
       "      <th>buy</th>\n",
       "      <th>cr</th>\n",
       "    </tr>\n",
       "  </thead>\n",
       "  <tbody>\n",
       "    <tr>\n",
       "      <th>0</th>\n",
       "      <td>A</td>\n",
       "      <td>1538</td>\n",
       "      <td>78</td>\n",
       "      <td>0.050715</td>\n",
       "    </tr>\n",
       "    <tr>\n",
       "      <th>1</th>\n",
       "      <td>B</td>\n",
       "      <td>6803</td>\n",
       "      <td>314</td>\n",
       "      <td>0.046156</td>\n",
       "    </tr>\n",
       "  </tbody>\n",
       "</table>\n",
       "</div>"
      ],
      "text/plain": [
       "  grp    id  buy        cr\n",
       "0   A  1538   78  0.050715\n",
       "1   B  6803  314  0.046156"
      ]
     },
     "execution_count": 17,
     "metadata": {},
     "output_type": "execute_result"
    }
   ],
   "source": [
    "CR = active_students.groupby('grp', as_index=False).agg({'id': 'count', 'buy': 'sum'})\n",
    "CR['cr'] = CR.buy / CR.id\n",
    "CR"
   ]
  },
  {
   "cell_type": "markdown",
   "metadata": {},
   "source": [
    "Получается, что CR целевой группы В снизился по сравнению с контрольной группой А. проверю, является ли изменение статистически значимым. Для проверки можно использовать метод bootstrap, т.к. он позволяет проверить определенную метрику."
   ]
  },
  {
   "cell_type": "markdown",
   "metadata": {},
   "source": [
    "Нулевая гипотеза H0 — ничего не поменялось, изменение CR является случайным результатом. Наша альтернативная гипотеза H1 — изменение значимо, коэффициент пользователей в целевой группе вырос."
   ]
  },
  {
   "cell_type": "markdown",
   "metadata": {},
   "source": [
    "Делю на группы. Т.к. нам для бутстрапа нужно посчитать CR, а CR считается как сумма сконвертировавшихся пользователей / на общее кол-во, что совпадает с с формулой среднего по столбцу buy, подойдет функция np.mean"
   ]
  },
  {
   "cell_type": "code",
   "execution_count": 18,
   "metadata": {},
   "outputs": [],
   "source": [
    "CR_A = active_students.query('grp == \"A\"')"
   ]
  },
  {
   "cell_type": "code",
   "execution_count": 19,
   "metadata": {},
   "outputs": [
    {
     "data": {
      "text/plain": [
       "BootstrapResult(confidence_interval=ConfidenceInterval(low=0.03966189856957087, high=0.06176853055916775), standard_error=0.005569983562897098)"
      ]
     },
     "execution_count": 19,
     "metadata": {},
     "output_type": "execute_result"
    }
   ],
   "source": [
    "bootstrap((CR_A.buy, ), np.mean)"
   ]
  },
  {
   "cell_type": "code",
   "execution_count": 20,
   "metadata": {},
   "outputs": [],
   "source": [
    "CR_B = active_students.query('grp == \"B\"')"
   ]
  },
  {
   "cell_type": "code",
   "execution_count": 22,
   "metadata": {},
   "outputs": [
    {
     "data": {
      "text/plain": [
       "BootstrapResult(confidence_interval=ConfidenceInterval(low=0.041158312509187125, high=0.05115390268998971), standard_error=0.0025158724524758543)"
      ]
     },
     "execution_count": 22,
     "metadata": {},
     "output_type": "execute_result"
    }
   ],
   "source": [
    "bootstrap((CR_B.buy, ), np.mean)"
   ]
  },
  {
   "cell_type": "markdown",
   "metadata": {},
   "source": [
    "Для группы А доверительный интервал получился [0.0397 - 0.0618], для группы B доверительный интервал [0.0412 - 0.0512]. У доверительных интервалов есть пересечение, это означает, что статистически значимого отличия в полученных оценках параметра нет. Нулевая гипотеза не может быть отклонена."
   ]
  },
  {
   "cell_type": "markdown",
   "metadata": {},
   "source": [
    "Перепроверим результат при помощи функции ХИ квадрат.  У нас 2 категориальные переменные, поэтому будем использовать критерий ХИ квадрат. H0 : нулевая гипотеза утврждает, что сконвертировался пользователь или нет не зависит от его принадлежности к какой-то группе и отличия случайны. H1 : гипотеза утврждает, что сконвертировался пользователь или нет зависит от его принадлежности к какой-то группе и различие CR в группах является статистически значимым"
   ]
  },
  {
   "cell_type": "code",
   "execution_count": 20,
   "metadata": {},
   "outputs": [],
   "source": [
    "stat, p, dof, expected = chi2_contingency(pd.crosstab(active_students.buy, active_students.grp))"
   ]
  },
  {
   "cell_type": "code",
   "execution_count": 21,
   "metadata": {},
   "outputs": [
    {
     "data": {
      "text/plain": [
       "(0.48480826522557896, 0.48625240457231045)"
      ]
     },
     "execution_count": 21,
     "metadata": {},
     "output_type": "execute_result"
    }
   ],
   "source": [
    "stat, p"
   ]
  },
  {
   "cell_type": "markdown",
   "metadata": {},
   "source": [
    "## p-value>0.05, следовательно принимаем Н0, сконвертировался пользователь или нет не зависит от его принадлежности к тестовой или контрольной группе. Следовательно новое изменение на конверсию статистически значимо не влияет."
   ]
  },
  {
   "cell_type": "markdown",
   "metadata": {},
   "source": [
    "## 2.2 Проверяем гипотезу, что вырос ARPAU (средний чек активного пользователя) после внедрения новой механики оплаты на сайте"
   ]
  },
  {
   "cell_type": "markdown",
   "metadata": {},
   "source": [
    "Сначала посмотрю на графике, как распределяется средний чек в двух группах:"
   ]
  },
  {
   "cell_type": "code",
   "execution_count": 23,
   "metadata": {},
   "outputs": [
    {
     "data": {
      "text/plain": [
       "<matplotlib.axes._subplots.AxesSubplot at 0x7f1518128550>"
      ]
     },
     "execution_count": 23,
     "metadata": {},
     "output_type": "execute_result"
    },
    {
     "data": {
      "image/png": "[encoded data removed]",
      "text/plain": [
       "<Figure size 432x288 with 1 Axes>"
      ]
     },
     "metadata": {
      "needs_background": "light"
     },
     "output_type": "display_data"
    }
   ],
   "source": [
    "sns.histplot(active_students, x = \"rev\", hue = \"grp\")"
   ]
  },
  {
   "cell_type": "markdown",
   "metadata": {},
   "source": [
    "Распределения не являются нормальными. Посчитаю средний чек для каждой группы:"
   ]
  },
  {
   "cell_type": "code",
   "execution_count": 36,
   "metadata": {},
   "outputs": [
    {
     "name": "stdout",
     "output_type": "stream",
     "text": [
      "47.34720416124838\n"
     ]
    },
    {
     "data": {
      "text/html": [
       "<div>\n",
       "<style scoped>\n",
       "    .dataframe tbody tr th:only-of-type {\n",
       "        vertical-align: middle;\n",
       "    }\n",
       "\n",
       "    .dataframe tbody tr th {\n",
       "        vertical-align: top;\n",
       "    }\n",
       "\n",
       "    .dataframe thead th {\n",
       "        text-align: right;\n",
       "    }\n",
       "</style>\n",
       "<table border=\"1\" class=\"dataframe\">\n",
       "  <thead>\n",
       "    <tr style=\"text-align: right;\">\n",
       "      <th></th>\n",
       "      <th>id</th>\n",
       "      <th>grp</th>\n",
       "      <th>active</th>\n",
       "      <th>rev</th>\n",
       "      <th>buy</th>\n",
       "    </tr>\n",
       "  </thead>\n",
       "  <tbody>\n",
       "    <tr>\n",
       "      <th>1</th>\n",
       "      <td>1627</td>\n",
       "      <td>A</td>\n",
       "      <td>yes</td>\n",
       "      <td>990.0</td>\n",
       "      <td>1</td>\n",
       "    </tr>\n",
       "    <tr>\n",
       "      <th>43</th>\n",
       "      <td>3391</td>\n",
       "      <td>A</td>\n",
       "      <td>yes</td>\n",
       "      <td>0.0</td>\n",
       "      <td>0</td>\n",
       "    </tr>\n",
       "    <tr>\n",
       "      <th>331</th>\n",
       "      <td>109623</td>\n",
       "      <td>A</td>\n",
       "      <td>yes</td>\n",
       "      <td>0.0</td>\n",
       "      <td>0</td>\n",
       "    </tr>\n",
       "    <tr>\n",
       "      <th>614</th>\n",
       "      <td>133678</td>\n",
       "      <td>A</td>\n",
       "      <td>yes</td>\n",
       "      <td>0.0</td>\n",
       "      <td>0</td>\n",
       "    </tr>\n",
       "    <tr>\n",
       "      <th>1002</th>\n",
       "      <td>175944</td>\n",
       "      <td>A</td>\n",
       "      <td>yes</td>\n",
       "      <td>0.0</td>\n",
       "      <td>0</td>\n",
       "    </tr>\n",
       "    <tr>\n",
       "      <th>...</th>\n",
       "      <td>...</td>\n",
       "      <td>...</td>\n",
       "      <td>...</td>\n",
       "      <td>...</td>\n",
       "      <td>...</td>\n",
       "    </tr>\n",
       "    <tr>\n",
       "      <th>74416</th>\n",
       "      <td>5668989</td>\n",
       "      <td>A</td>\n",
       "      <td>yes</td>\n",
       "      <td>0.0</td>\n",
       "      <td>0</td>\n",
       "    </tr>\n",
       "    <tr>\n",
       "      <th>74469</th>\n",
       "      <td>5690284</td>\n",
       "      <td>A</td>\n",
       "      <td>yes</td>\n",
       "      <td>0.0</td>\n",
       "      <td>0</td>\n",
       "    </tr>\n",
       "    <tr>\n",
       "      <th>74523</th>\n",
       "      <td>5723133</td>\n",
       "      <td>A</td>\n",
       "      <td>yes</td>\n",
       "      <td>0.0</td>\n",
       "      <td>0</td>\n",
       "    </tr>\n",
       "    <tr>\n",
       "      <th>74528</th>\n",
       "      <td>5729371</td>\n",
       "      <td>A</td>\n",
       "      <td>yes</td>\n",
       "      <td>0.0</td>\n",
       "      <td>0</td>\n",
       "    </tr>\n",
       "    <tr>\n",
       "      <th>74558</th>\n",
       "      <td>5870856</td>\n",
       "      <td>A</td>\n",
       "      <td>yes</td>\n",
       "      <td>0.0</td>\n",
       "      <td>0</td>\n",
       "    </tr>\n",
       "  </tbody>\n",
       "</table>\n",
       "<p>1538 rows × 5 columns</p>\n",
       "</div>"
      ],
      "text/plain": [
       "            id grp active    rev  buy\n",
       "1         1627   A    yes  990.0    1\n",
       "43        3391   A    yes    0.0    0\n",
       "331     109623   A    yes    0.0    0\n",
       "614     133678   A    yes    0.0    0\n",
       "1002    175944   A    yes    0.0    0\n",
       "...        ...  ..    ...    ...  ...\n",
       "74416  5668989   A    yes    0.0    0\n",
       "74469  5690284   A    yes    0.0    0\n",
       "74523  5723133   A    yes    0.0    0\n",
       "74528  5729371   A    yes    0.0    0\n",
       "74558  5870856   A    yes    0.0    0\n",
       "\n",
       "[1538 rows x 5 columns]"
      ]
     },
     "execution_count": 36,
     "metadata": {},
     "output_type": "execute_result"
    }
   ],
   "source": [
    "students_A = active_students.query('grp == \"A\"')\n",
    "ARPAU_A = students_A.rev.sum() / students_A.shape[0]\n",
    "print(ARPAU_A)\n",
    "students_A"
   ]
  },
  {
   "cell_type": "code",
   "execution_count": 45,
   "metadata": {},
   "outputs": [
    {
     "name": "stdout",
     "output_type": "stream",
     "text": [
      "58.058798103777754\n"
     ]
    }
   ],
   "source": [
    "students_B = active_students.query('grp == \"B\"')\n",
    "ARPAU_B = students_B.rev.sum() / students_B.shape[0]\n",
    "print(ARPAU_B)"
   ]
  },
  {
   "cell_type": "markdown",
   "metadata": {},
   "source": [
    "Средний чек активного пользователя в целевой группе выше среднего чека в контрольной группе. \n",
    "Т.к. нам необходимо сравнивать средние значения, а распределения не являются нормальными,  для проверки гипотезы я буду использовать метод bootstrap. U-критерий Манна-Уитни не подойдет, т.к. он не сравнивает средние значения."
   ]
  },
  {
   "cell_type": "markdown",
   "metadata": {},
   "source": [
    "С помощью метода Bootstrap проверим следующие гипотезы: Нулевая гипотеза H0 — ничего не поменялось, изменение ARPAU является случайным результатом. Наша альтернативная гипотеза H1 — изменение значимо, средний чек пользователей в целевой группе вырос."
   ]
  },
  {
   "cell_type": "markdown",
   "metadata": {},
   "source": [
    "Т.к. нам для бутстрапа нужно посчитать средний чек, подойдет функция np.mean"
   ]
  },
  {
   "cell_type": "code",
   "execution_count": 43,
   "metadata": {},
   "outputs": [
    {
     "data": {
      "text/plain": [
       "BootstrapResult(confidence_interval=ConfidenceInterval(low=34.95772370037015, high=63.995425703279366), standard_error=7.32887255505104)"
      ]
     },
     "execution_count": 43,
     "metadata": {},
     "output_type": "execute_result"
    }
   ],
   "source": [
    "bootstrap((students_A.rev, ), np.mean)"
   ]
  },
  {
   "cell_type": "code",
   "execution_count": 46,
   "metadata": {},
   "outputs": [
    {
     "data": {
      "text/plain": [
       "BootstrapResult(confidence_interval=ConfidenceInterval(low=50.80062742091181, high=65.98287255132209), standard_error=3.8199865838051275)"
      ]
     },
     "execution_count": 46,
     "metadata": {},
     "output_type": "execute_result"
    }
   ],
   "source": [
    "bootstrap((students_B.rev, ), np.mean)"
   ]
  },
  {
   "cell_type": "markdown",
   "metadata": {},
   "source": [
    "Для группы А доверительный интервал получился [34.96 - 66.00], для группы B доверительный интервал [50.80 - 65.98]. У доверительных интервалов есть пересечение, это означает, что статистически значимого отличия в полученных оценках параметра нет. Нулевая гипотеза не может быть отклонена."
   ]
  },
  {
   "cell_type": "markdown",
   "metadata": {},
   "source": [
    "## Доверительные интервалы пересекаются, следовательно не отклоняем Н0. По даннному критерию статистических отличий нет. Новая механика оплаты не влияет на средний чек активного пользователя."
   ]
  },
  {
   "cell_type": "markdown",
   "metadata": {},
   "source": [
    "## 2.3 Проверяем гипотезу, что вырос ARPPU (средний чек активного платящего пользователя) после внедрения новой механики оплаты на сайте"
   ]
  },
  {
   "cell_type": "code",
   "execution_count": 47,
   "metadata": {},
   "outputs": [],
   "source": [
    "paying_students = active_students.query('rev > 0')"
   ]
  },
  {
   "cell_type": "markdown",
   "metadata": {},
   "source": [
    "Сначала посмотрю на графике, как распределяется средний чек в двух группах:"
   ]
  },
  {
   "cell_type": "code",
   "execution_count": 48,
   "metadata": {},
   "outputs": [
    {
     "data": {
      "text/plain": [
       "<matplotlib.axes._subplots.AxesSubplot at 0x7f1517ac8e48>"
      ]
     },
     "execution_count": 48,
     "metadata": {},
     "output_type": "execute_result"
    },
    {
     "data": {
      "image/png": "[encoded data removed]",
      "text/plain": [
       "<Figure size 432x288 with 1 Axes>"
      ]
     },
     "metadata": {
      "needs_background": "light"
     },
     "output_type": "display_data"
    }
   ],
   "source": [
    "sns.histplot(paying_students, x = \"rev\", hue = \"grp\")"
   ]
  },
  {
   "cell_type": "markdown",
   "metadata": {},
   "source": [
    "Распределения не являются нормальными. Посчитаю средний чек для каждой группы:"
   ]
  },
  {
   "cell_type": "code",
   "execution_count": 50,
   "metadata": {},
   "outputs": [
    {
     "name": "stdout",
     "output_type": "stream",
     "text": [
      "933.5897435897435\n"
     ]
    }
   ],
   "source": [
    "students_A = paying_students.query('grp == \"A\"')\n",
    "ARPPU_A = students_A.rev.sum() / students_A.shape[0]\n",
    "print(ARPPU_A)"
   ]
  },
  {
   "cell_type": "code",
   "execution_count": 51,
   "metadata": {},
   "outputs": [
    {
     "name": "stdout",
     "output_type": "stream",
     "text": [
      "1257.8789920382164\n"
     ]
    }
   ],
   "source": [
    "students_B = paying_students.query('grp == \"B\"')\n",
    "ARPPU_B = students_B.rev.sum() / students_B.shape[0]\n",
    "print(ARPPU_B)"
   ]
  },
  {
   "cell_type": "markdown",
   "metadata": {},
   "source": [
    "Средний чек активного пользователя в целевой группе выше среднего чека в контрольной группе. Т.к. нам необходимо сравнивать средние значения, а распределения не являются нормальными, для проверки гипотезы я буду использовать метод bootstrap. U-критерий Манна-Уитни не подойдет, т.к. он не сравнивает средние значения.\n",
    "\n",
    "С помощью метода Bootstrap проверим следующие гипотезы: Нулевая гипотеза H0 — ничего не поменялось, изменение ARPPU является случайным результатом. Наша альтернативная гипотеза H1 — изменение значимо, средний чек пользователей в целевой группе вырос."
   ]
  },
  {
   "cell_type": "code",
   "execution_count": 52,
   "metadata": {},
   "outputs": [
    {
     "data": {
      "text/plain": [
       "BootstrapResult(confidence_interval=ConfidenceInterval(low=752.5091352652178, high=1171.2121741598828), standard_error=104.4885892274619)"
      ]
     },
     "execution_count": 52,
     "metadata": {},
     "output_type": "execute_result"
    }
   ],
   "source": [
    "bootstrap((students_A.rev, ), np.mean)"
   ]
  },
  {
   "cell_type": "code",
   "execution_count": 53,
   "metadata": {},
   "outputs": [
    {
     "data": {
      "text/plain": [
       "BootstrapResult(confidence_interval=ConfidenceInterval(low=1171.2213834456045, high=1350.2045249621472), standard_error=45.316793796020846)"
      ]
     },
     "execution_count": 53,
     "metadata": {},
     "output_type": "execute_result"
    }
   ],
   "source": [
    "bootstrap((students_B.rev, ), np.mean)"
   ]
  },
  {
   "cell_type": "markdown",
   "metadata": {},
   "source": [
    "Для группы А доверительный интервал получился [752.51 - 1171.21], для группы B доверительный интервал [1171.22 - 1350.20]. У доверительных интервалов нет пересечения, это означает, что имеется статистически значимое отличие в полученных оценках параметра. Нулевая гипотеза может быть отклонена."
   ]
  },
  {
   "cell_type": "markdown",
   "metadata": {},
   "source": [
    "## У доверительных интервалов нет пересечения, значит мы отклоняем гипотезу Н0. Следовательно различия имеются и являются статистически значимыми. Новая механика оплаты влияет на средний чек платящих пользователей, в целевой группе он увеличился на 324 рубля (27%), что является значимым изменением. "
   ]
  },
  {
   "cell_type": "markdown",
   "metadata": {},
   "source": [
    "# 3. Заключение. В ходе эксперимента было проверено влияние новой механики оплаты на конверсию в покупку, на средний чек всех активных пользователей и платящих активных пользователей контрольной и целевой группы. Положительное статистически значимое влияние было подтверждено только на средний чек платящих пользователей. Новую механику оплаты стоит запустить для всех пользователей, т.к. она значимо увеличивает прибыль от платящих пользователей. После запуска новой функции рекомендуется следить за показателем CR  - конверсия активного пользователя в покупку т.к. было замечено негативное отклонение в целевой группе. Оно не являлось статистически значимым, но желательно проверить на других данных, чтобы его не пропустить. "
   ]
  },
  {
   "cell_type": "markdown",
   "metadata": {},
   "source": [
    "# Задание 2"
   ]
  },
  {
   "cell_type": "markdown",
   "metadata": {},
   "source": [
    "## 2.1 Очень усердные ученики."
   ]
  },
  {
   "cell_type": "code",
   "execution_count": 6,
   "metadata": {},
   "outputs": [],
   "source": [
    "# Объявляем параметры подключения к clickhouse\n",
    "connection = dict(database = 'default',\n",
    "                  host = 'https://clickhouse.lab.karpov.courses',\n",
    "                  user = 'student',\n",
    "      password = 'dpo_python_2020')"
   ]
  },
  {
   "cell_type": "code",
   "execution_count": 7,
   "metadata": {},
   "outputs": [
    {
     "data": {
      "text/html": [
       "<div>\n",
       "<style scoped>\n",
       "    .dataframe tbody tr th:only-of-type {\n",
       "        vertical-align: middle;\n",
       "    }\n",
       "\n",
       "    .dataframe tbody tr th {\n",
       "        vertical-align: top;\n",
       "    }\n",
       "\n",
       "    .dataframe thead th {\n",
       "        text-align: right;\n",
       "    }\n",
       "</style>\n",
       "<table border=\"1\" class=\"dataframe\">\n",
       "  <thead>\n",
       "    <tr style=\"text-align: right;\">\n",
       "      <th></th>\n",
       "      <th>diligent_students</th>\n",
       "    </tr>\n",
       "  </thead>\n",
       "  <tbody>\n",
       "    <tr>\n",
       "      <th>0</th>\n",
       "      <td>136</td>\n",
       "    </tr>\n",
       "  </tbody>\n",
       "</table>\n",
       "</div>"
      ],
      "text/plain": [
       "   diligent_students\n",
       "0                136"
      ]
     },
     "execution_count": 7,
     "metadata": {},
     "output_type": "execute_result"
    }
   ],
   "source": [
    "# пишем запрос, и получаем данные из clickhouse в pandas dataframe\n",
    "# 1 вариант.Универсальный запрос для любой таблицы:\n",
    "# Нахожу последний месяц с помощью WITH:\n",
    "query = \"\"\"\n",
    "WITH \n",
    "    (SELECT MAX(toStartOfMonth(timest)) FROM default.peas) AS last_month\n",
    "\n",
    "SELECT\n",
    "count(st_id) AS diligent_students\n",
    "FROM( \n",
    "    SELECT\n",
    "    st_id,\n",
    "    toStartOfMonth(timest) AS start_of_month,\n",
    "    count(timest) as peas_number\n",
    "    FROM default.peas\n",
    "    WHERE correct = TRUE AND start_of_month = last_month\n",
    "    GROUP BY st_id, start_of_month\n",
    "    )\n",
    "WHERE peas_number >= 20 \n",
    "\"\"\"\n",
    "diligent_students = ph.read_clickhouse(query, connection = connection)\n",
    "diligent_students"
   ]
  },
  {
   "cell_type": "code",
   "execution_count": 34,
   "metadata": {},
   "outputs": [
    {
     "data": {
      "text/html": [
       "<div>\n",
       "<style scoped>\n",
       "    .dataframe tbody tr th:only-of-type {\n",
       "        vertical-align: middle;\n",
       "    }\n",
       "\n",
       "    .dataframe tbody tr th {\n",
       "        vertical-align: top;\n",
       "    }\n",
       "\n",
       "    .dataframe thead th {\n",
       "        text-align: right;\n",
       "    }\n",
       "</style>\n",
       "<table border=\"1\" class=\"dataframe\">\n",
       "  <thead>\n",
       "    <tr style=\"text-align: right;\">\n",
       "      <th></th>\n",
       "      <th>diligent_students</th>\n",
       "    </tr>\n",
       "  </thead>\n",
       "  <tbody>\n",
       "    <tr>\n",
       "      <th>0</th>\n",
       "      <td>136</td>\n",
       "    </tr>\n",
       "  </tbody>\n",
       "</table>\n",
       "</div>"
      ],
      "text/plain": [
       "   diligent_students\n",
       "0                136"
      ]
     },
     "execution_count": 34,
     "metadata": {},
     "output_type": "execute_result"
    }
   ],
   "source": [
    "# пишем запрос, и получаем данные из clickhouse в pandas dataframe\n",
    "# 2 вариант. В предложенной таблице данные только за 2 дня одного месяца, \n",
    "# поэтому для данной таблицы дату в запросе можно не учитывать. Оптимальный запрос будет:\n",
    "query = \"\"\"\n",
    "SELECT\n",
    "count(st_id) AS diligent_students\n",
    "FROM(    \n",
    "    SELECT\n",
    "    st_id,\n",
    "    count(timest) as peas_number\n",
    "    FROM default.peas\n",
    "    WHERE correct = TRUE\n",
    "    GROUP BY st_id)\n",
    "WHERE peas_number >= 20  \n",
    "\"\"\"\n",
    "diligent_students = ph.read_clickhouse(query, connection = connection)\n",
    "diligent_students"
   ]
  },
  {
   "cell_type": "markdown",
   "metadata": {},
   "source": [
    "## 2.1 Ответ: 136 очень усердных учеников"
   ]
  },
  {
   "cell_type": "markdown",
   "metadata": {},
   "source": [
    "## 2.2 Оптимизация воронки"
   ]
  },
  {
   "cell_type": "code",
   "execution_count": 9,
   "metadata": {},
   "outputs": [
    {
     "data": {
      "text/html": [
       "<div>\n",
       "<style scoped>\n",
       "    .dataframe tbody tr th:only-of-type {\n",
       "        vertical-align: middle;\n",
       "    }\n",
       "\n",
       "    .dataframe tbody tr th {\n",
       "        vertical-align: top;\n",
       "    }\n",
       "\n",
       "    .dataframe thead th {\n",
       "        text-align: right;\n",
       "    }\n",
       "</style>\n",
       "<table border=\"1\" class=\"dataframe\">\n",
       "  <thead>\n",
       "    <tr style=\"text-align: right;\">\n",
       "      <th></th>\n",
       "      <th>test_grp</th>\n",
       "      <th>ARPU</th>\n",
       "      <th>ARPAU</th>\n",
       "      <th>CR</th>\n",
       "      <th>CR_active</th>\n",
       "      <th>CR_math</th>\n",
       "    </tr>\n",
       "  </thead>\n",
       "  <tbody>\n",
       "    <tr>\n",
       "      <th>0</th>\n",
       "      <td>control</td>\n",
       "      <td>4540.983607</td>\n",
       "      <td>10905.511811</td>\n",
       "      <td>0.049180</td>\n",
       "      <td>0.118110</td>\n",
       "      <td>0.163265</td>\n",
       "    </tr>\n",
       "    <tr>\n",
       "      <th>1</th>\n",
       "      <td>pilot</td>\n",
       "      <td>11508.474576</td>\n",
       "      <td>35364.583333</td>\n",
       "      <td>0.108475</td>\n",
       "      <td>0.333333</td>\n",
       "      <td>0.380952</td>\n",
       "    </tr>\n",
       "  </tbody>\n",
       "</table>\n",
       "</div>"
      ],
      "text/plain": [
       "  test_grp          ARPU         ARPAU        CR  CR_active   CR_math\n",
       "0  control   4540.983607  10905.511811  0.049180   0.118110  0.163265\n",
       "1    pilot  11508.474576  35364.583333  0.108475   0.333333  0.380952"
      ]
     },
     "execution_count": 9,
     "metadata": {},
     "output_type": "execute_result"
    }
   ],
   "source": [
    "# пишем запрос, и получаем данные из clickhouse в pandas dataframe\n",
    "query = \"\"\"\n",
    "-- Считаю требуемые метрики по группам пользователей:\n",
    "SELECT\n",
    "test_grp,\n",
    "sum(total_money) / count(users) AS ARPU,\n",
    "sum(total_money) / sum(activity) AS ARPAU,\n",
    "sum(payment) / count(users) AS CR,\n",
    "sum(payment) / sum(activity) AS CR_active,\n",
    "sum(math_payment) / sum(math_activity) AS CR_math\n",
    "FROM(\n",
    "-- Объединеннная таблица из трёх таблиц: students, peas и final_project_check,группирую по пользователям и группам\n",
    "        SELECT \n",
    "            C.st_id AS users,\n",
    "            C.test_grp AS test_grp,\n",
    "            AVG(C.correct) AS correct_sum, -- беру среднее значение, т.к. при объединении таблиц строки задублировались \n",
    "            AVG(C.math_active) AS math_active, -- беру среднее значение, т.к. при объединении таблиц строки задублировались\n",
    "            SUM(D.money) AS total_money,\n",
    "            SUM(CASE \n",
    "                WHEN D.subject = 'Math' THEN 1 \n",
    "                ELSE 0 \n",
    "            END) AS math_payment,  -- Новый столбец = 1, если пользователь делал оплату математики, иначе 0. Для подсчета конверсии\n",
    "            CASE \n",
    "            WHEN AVG(C.correct) > 10 THEN 1\n",
    "            ELSE 0\n",
    "            END AS activity, -- Новый столбец = 1, если пользователь активный, иначе 0\n",
    "            CASE \n",
    "            WHEN SUM(D.money) > 0 THEN 1\n",
    "            ELSE 0\n",
    "            END AS payment, -- Новый столбец = 1, если пользователь делал хотя бы одну оплату, иначе 0. Для подсчета конверсии\n",
    "            CASE \n",
    "            WHEN AVG(C.math_active) >= 2 THEN 1\n",
    "            ELSE 0\n",
    "            END AS math_activity -- Новый столбец = 1, если пользователь активный в математике, иначе 0\n",
    "            \n",
    "        FROM(\n",
    "        -- Объединяю 2 таблицы students и peas, группирую их по пользователям и группам\n",
    "            SELECT\n",
    "                A.st_id AS st_id,\n",
    "                A.test_grp AS test_grp,\n",
    "                sum(B.correct) AS correct, -- количество правильно выполненных заданий каждого пользователя\n",
    "                sum(CASE \n",
    "                WHEN B.subject ='Math' AND B.correct = 1 THEN 1 \n",
    "                ELSE 0 \n",
    "            END) AS math_active -- количество правильно выполненных заданий по математике каждого пользователя\n",
    "            FROM\n",
    "                default.studs AS A\n",
    "            LEFT JOIN \n",
    "                default.peas AS B\n",
    "            ON \n",
    "                A.st_id = B.st_id\n",
    "            GROUP BY st_id, test_grp\n",
    "            ) AS C    \n",
    "        LEFT JOIN\n",
    "            default.final_project_check AS D\n",
    "        ON\n",
    "            C.st_id = D.st_id\n",
    "        GROUP BY st_id, test_grp\n",
    "    )\n",
    "GROUP BY test_grp \n",
    "\"\"\"\n",
    "metrics = ph.read_clickhouse(query, connection = connection)\n",
    "metrics"
   ]
  },
  {
   "cell_type": "markdown",
   "metadata": {},
   "source": [
    "## 2.2 Метрики по группам пользователей указаны в результате запроса выше "
   ]
  },
  {
   "cell_type": "markdown",
   "metadata": {},
   "source": [
    "# Задание 3"
   ]
  },
  {
   "cell_type": "markdown",
   "metadata": {},
   "source": [
    "Как я поняла задание: Задание 3 является продолжением первого задания. Но необходимо оформить его в виде функций для многоразового использования. Предполагается следующий процесс:\n",
    "\n",
    "1. Есть исходный файл groups со списком студентов, поделенных на группы\n",
    "2. Для этих студентов посчитаны метрики, которые я выбрала в 1 задании: CR, ARPAU, ARPPU\n",
    "3. К нему периодически будет добавляться файл groups_add c дополнительными пользователями\n",
    "4. CR, ARPAU, ARPPU будут пересчитываться с учетом добавленных пользователей\n",
    "5. Строятся графики изменения CR, ARPAU, ARPPU с каждой выгрузкой"
   ]
  },
  {
   "cell_type": "markdown",
   "metadata": {},
   "source": [
    "## Функция пересчета метрик."
   ]
  },
  {
   "cell_type": "code",
   "execution_count": 26,
   "metadata": {},
   "outputs": [],
   "source": [
    "def count_metric_with_add(groups, groups_add, students, checks):\n",
    "    '''Функция пересчета метрик. В качестве аргументов функция принимает все 4 таблицы:groups, groups_add, students, checks . \n",
    "    В данной функции сначала объединяются все данные в один датафрейм. \n",
    "    Затем производится расчет метрик. Таблицы с метриками возвращаются в качестве результата.'''\n",
    "    # Сначала соединяю 2 файла с информацией о группах пользователей\n",
    "    groups_full = pd.concat([groups, groups_add])\n",
    "    # Удаляю дубликаты:\n",
    "    groups_full = groups_full.drop_duplicates()\n",
    "    # Добавляю в итоговую таблицу информацию, кто из пользователей был активен. \n",
    "    # Для этого сначала в таблицу с активными пользователями добавляю столбец \"active\" \n",
    "    # со значением \"yes\" и переименовываю student_id в id для простоты объединения\n",
    "    students['active'] = \"yes\"\n",
    "    students = students.rename(columns = {'student_id': 'id'})\n",
    "    # Затем делаю left join с итоговой таблицей с группами пользователей\n",
    "    groups_full = groups_full.merge(students, how = 'left', on = 'id')\n",
    "    # В столбце active меняю пустые значения на No\n",
    "    groups_full['active'] = groups_full.active.fillna('no')\n",
    "    # Добавляю информацию об оплатах. \n",
    "    # Произвожу left join с таблицей checks и пустые значения заполняю нулями.\n",
    "    checks = checks.rename(columns = {'student_id': 'id'})\n",
    "    groups_full = groups_full.merge(checks, how = 'left', on = 'id')\n",
    "    groups_full['rev'] = groups_full.rev.fillna(0)\n",
    "    # Отбираю только активных студентов:\n",
    "    active_students = groups_full[groups_full.active == \"yes\"]\n",
    "    # Добавляю новый столбец buy, который будет =1, если покупка совершена и 0, если покупки не было\n",
    "    active_students['buy'] = np.where(active_students['rev'] == 0, 0, 1)\n",
    "    #Считаю метрики:\n",
    "    CR = active_students.groupby('grp', as_index = False).agg({'id': 'count', 'buy': 'sum'})\n",
    "    CR['cr'] = CR.buy / CR.id\n",
    "    ARPAU = active_students.groupby('grp', as_index=False).agg({'id': 'count', 'rev': 'sum'})\n",
    "    ARPAU['arpau'] = ARPAU.rev / ARPAU.id\n",
    "    ARPPU = active_students.query('rev > 0').groupby('grp', as_index = False).agg({'id': 'count', 'rev': 'sum'})\n",
    "    ARPPU['arppu'] = ARPPU.rev / ARPPU.id\n",
    "    return CR, ARPAU, ARPPU"
   ]
  },
  {
   "cell_type": "markdown",
   "metadata": {},
   "source": [
    "## Функция построения графиков метрик"
   ]
  },
  {
   "cell_type": "code",
   "execution_count": 27,
   "metadata": {},
   "outputs": [],
   "source": [
    "def metric_graph(CR, ARPAU, ARPPU):\n",
    "    '''Функция построения графиков метрик. В качестве аргументов функция принимает 3 таблицы с метриками: \n",
    "    CR, ARPAU, ARPPU.\n",
    "    Функция использует библиотеку seaborn и строит графики изменения метрик во времени'''\n",
    "    fig, ax = plt.subplots(1, 3, figsize = (15, 5))\n",
    "    sns.lineplot(data = CR, y = 'cr', x = 'datetime', hue = 'grp', ax = ax[0])\n",
    "    sns.lineplot(data = ARPAU, y = 'arpau', x = 'datetime', hue = 'grp', ax = ax[1])\n",
    "    sns.lineplot(data = ARPPU, y = 'arppu', x = 'datetime', hue = 'grp', ax = ax[2])\n",
    "    plt.show()"
   ]
  },
  {
   "cell_type": "markdown",
   "metadata": {},
   "source": [
    "Для проверки работы функций сначала посчитаю метрики просто для таблицы groups. Для этого вместо groups_add передаю функции пустой датафрейм groups_add_0.В результирующие таблицы с метриками добавляю столбец с текущей датой и временем. В дальнейшем можно брать только дату, но сейчаса, чтобы было отличие в данных, мне требуется и время."
   ]
  },
  {
   "cell_type": "code",
   "execution_count": 28,
   "metadata": {},
   "outputs": [
    {
     "name": "stderr",
     "output_type": "stream",
     "text": [
      "/opt/tljh/user/lib/python3.7/site-packages/ipykernel_launcher.py:26: SettingWithCopyWarning: \n",
      "A value is trying to be set on a copy of a slice from a DataFrame.\n",
      "Try using .loc[row_indexer,col_indexer] = value instead\n",
      "\n",
      "See the caveats in the documentation: https://pandas.pydata.org/pandas-docs/stable/user_guide/indexing.html#returning-a-view-versus-a-copy\n"
     ]
    }
   ],
   "source": [
    "groups_add_0 = pd.DataFrame()\n",
    "CR, ARPAU, ARPPU = count_metric_with_add(groups, groups_add_0, students, checks)\n",
    "CR['datetime'] = datetime.datetime.now()\n",
    "ARPAU['datetime'] = datetime.datetime.now()\n",
    "ARPPU['datetime'] = datetime.datetime.now()"
   ]
  },
  {
   "cell_type": "markdown",
   "metadata": {},
   "source": [
    "Добавляю таблицу groups_add и пересчитываю метрики, также добавляю столбец с временной меткой"
   ]
  },
  {
   "cell_type": "code",
   "execution_count": 29,
   "metadata": {},
   "outputs": [
    {
     "name": "stderr",
     "output_type": "stream",
     "text": [
      "/opt/tljh/user/lib/python3.7/site-packages/ipykernel_launcher.py:26: SettingWithCopyWarning: \n",
      "A value is trying to be set on a copy of a slice from a DataFrame.\n",
      "Try using .loc[row_indexer,col_indexer] = value instead\n",
      "\n",
      "See the caveats in the documentation: https://pandas.pydata.org/pandas-docs/stable/user_guide/indexing.html#returning-a-view-versus-a-copy\n"
     ]
    }
   ],
   "source": [
    "CR_new, ARPAU_new, ARPPU_new = count_metric_with_add(groups, groups_add, students, checks)\n",
    "todays_date = datetime.datetime.now()"
   ]
  },
  {
   "cell_type": "markdown",
   "metadata": {},
   "source": [
    "Итоговая таблица с метриками содержит все предыдущие значения и к ней добавляются новые значения."
   ]
  },
  {
   "cell_type": "code",
   "execution_count": 30,
   "metadata": {},
   "outputs": [
    {
     "data": {
      "text/html": [
       "<div>\n",
       "<style scoped>\n",
       "    .dataframe tbody tr th:only-of-type {\n",
       "        vertical-align: middle;\n",
       "    }\n",
       "\n",
       "    .dataframe tbody tr th {\n",
       "        vertical-align: top;\n",
       "    }\n",
       "\n",
       "    .dataframe thead th {\n",
       "        text-align: right;\n",
       "    }\n",
       "</style>\n",
       "<table border=\"1\" class=\"dataframe\">\n",
       "  <thead>\n",
       "    <tr style=\"text-align: right;\">\n",
       "      <th></th>\n",
       "      <th>grp</th>\n",
       "      <th>id</th>\n",
       "      <th>buy</th>\n",
       "      <th>cr</th>\n",
       "      <th>datetime</th>\n",
       "    </tr>\n",
       "  </thead>\n",
       "  <tbody>\n",
       "    <tr>\n",
       "      <th>0</th>\n",
       "      <td>A</td>\n",
       "      <td>1535</td>\n",
       "      <td>78</td>\n",
       "      <td>0.050814</td>\n",
       "      <td>2023-07-09 22:41:34.420706</td>\n",
       "    </tr>\n",
       "    <tr>\n",
       "      <th>1</th>\n",
       "      <td>B</td>\n",
       "      <td>6793</td>\n",
       "      <td>313</td>\n",
       "      <td>0.046077</td>\n",
       "      <td>2023-07-09 22:41:34.420706</td>\n",
       "    </tr>\n",
       "    <tr>\n",
       "      <th>0</th>\n",
       "      <td>A</td>\n",
       "      <td>1538</td>\n",
       "      <td>78</td>\n",
       "      <td>0.050715</td>\n",
       "      <td>2023-07-09 22:41:37.943121</td>\n",
       "    </tr>\n",
       "    <tr>\n",
       "      <th>1</th>\n",
       "      <td>B</td>\n",
       "      <td>6803</td>\n",
       "      <td>314</td>\n",
       "      <td>0.046156</td>\n",
       "      <td>2023-07-09 22:41:37.943121</td>\n",
       "    </tr>\n",
       "  </tbody>\n",
       "</table>\n",
       "</div>"
      ],
      "text/plain": [
       "  grp    id  buy        cr                   datetime\n",
       "0   A  1535   78  0.050814 2023-07-09 22:41:34.420706\n",
       "1   B  6793  313  0.046077 2023-07-09 22:41:34.420706\n",
       "0   A  1538   78  0.050715 2023-07-09 22:41:37.943121\n",
       "1   B  6803  314  0.046156 2023-07-09 22:41:37.943121"
      ]
     },
     "execution_count": 30,
     "metadata": {},
     "output_type": "execute_result"
    }
   ],
   "source": [
    "CR_new['datetime'] = todays_date\n",
    "CR = pd.concat([CR, CR_new])\n",
    "ARPAU_new['datetime'] = todays_date\n",
    "ARPAU = pd.concat([ARPAU, ARPAU_new])\n",
    "ARPPU_new['datetime'] = todays_date\n",
    "ARPPU = pd.concat([ARPPU, ARPPU_new])\n",
    "CR"
   ]
  },
  {
   "cell_type": "code",
   "execution_count": 31,
   "metadata": {},
   "outputs": [
    {
     "data": {
      "text/html": [
       "<div>\n",
       "<style scoped>\n",
       "    .dataframe tbody tr th:only-of-type {\n",
       "        vertical-align: middle;\n",
       "    }\n",
       "\n",
       "    .dataframe tbody tr th {\n",
       "        vertical-align: top;\n",
       "    }\n",
       "\n",
       "    .dataframe thead th {\n",
       "        text-align: right;\n",
       "    }\n",
       "</style>\n",
       "<table border=\"1\" class=\"dataframe\">\n",
       "  <thead>\n",
       "    <tr style=\"text-align: right;\">\n",
       "      <th></th>\n",
       "      <th>grp</th>\n",
       "      <th>id</th>\n",
       "      <th>rev</th>\n",
       "      <th>arpau</th>\n",
       "      <th>datetime</th>\n",
       "    </tr>\n",
       "  </thead>\n",
       "  <tbody>\n",
       "    <tr>\n",
       "      <th>0</th>\n",
       "      <td>A</td>\n",
       "      <td>1535</td>\n",
       "      <td>72820.0000</td>\n",
       "      <td>47.439739</td>\n",
       "      <td>2023-07-09 22:41:34.544498</td>\n",
       "    </tr>\n",
       "    <tr>\n",
       "      <th>1</th>\n",
       "      <td>B</td>\n",
       "      <td>6793</td>\n",
       "      <td>393074.0035</td>\n",
       "      <td>57.864567</td>\n",
       "      <td>2023-07-09 22:41:34.544498</td>\n",
       "    </tr>\n",
       "    <tr>\n",
       "      <th>0</th>\n",
       "      <td>A</td>\n",
       "      <td>1538</td>\n",
       "      <td>72820.0000</td>\n",
       "      <td>47.347204</td>\n",
       "      <td>2023-07-09 22:41:37.943121</td>\n",
       "    </tr>\n",
       "    <tr>\n",
       "      <th>1</th>\n",
       "      <td>B</td>\n",
       "      <td>6803</td>\n",
       "      <td>394974.0035</td>\n",
       "      <td>58.058798</td>\n",
       "      <td>2023-07-09 22:41:37.943121</td>\n",
       "    </tr>\n",
       "  </tbody>\n",
       "</table>\n",
       "</div>"
      ],
      "text/plain": [
       "  grp    id          rev      arpau                   datetime\n",
       "0   A  1535   72820.0000  47.439739 2023-07-09 22:41:34.544498\n",
       "1   B  6793  393074.0035  57.864567 2023-07-09 22:41:34.544498\n",
       "0   A  1538   72820.0000  47.347204 2023-07-09 22:41:37.943121\n",
       "1   B  6803  394974.0035  58.058798 2023-07-09 22:41:37.943121"
      ]
     },
     "execution_count": 31,
     "metadata": {},
     "output_type": "execute_result"
    }
   ],
   "source": [
    "ARPAU"
   ]
  },
  {
   "cell_type": "code",
   "execution_count": 32,
   "metadata": {},
   "outputs": [
    {
     "data": {
      "text/html": [
       "<div>\n",
       "<style scoped>\n",
       "    .dataframe tbody tr th:only-of-type {\n",
       "        vertical-align: middle;\n",
       "    }\n",
       "\n",
       "    .dataframe tbody tr th {\n",
       "        vertical-align: top;\n",
       "    }\n",
       "\n",
       "    .dataframe thead th {\n",
       "        text-align: right;\n",
       "    }\n",
       "</style>\n",
       "<table border=\"1\" class=\"dataframe\">\n",
       "  <thead>\n",
       "    <tr style=\"text-align: right;\">\n",
       "      <th></th>\n",
       "      <th>grp</th>\n",
       "      <th>id</th>\n",
       "      <th>rev</th>\n",
       "      <th>arppu</th>\n",
       "      <th>datetime</th>\n",
       "    </tr>\n",
       "  </thead>\n",
       "  <tbody>\n",
       "    <tr>\n",
       "      <th>0</th>\n",
       "      <td>A</td>\n",
       "      <td>78</td>\n",
       "      <td>72820.0000</td>\n",
       "      <td>933.589744</td>\n",
       "      <td>2023-07-09 22:41:34.548152</td>\n",
       "    </tr>\n",
       "    <tr>\n",
       "      <th>1</th>\n",
       "      <td>B</td>\n",
       "      <td>313</td>\n",
       "      <td>393074.0035</td>\n",
       "      <td>1255.827487</td>\n",
       "      <td>2023-07-09 22:41:34.548152</td>\n",
       "    </tr>\n",
       "    <tr>\n",
       "      <th>0</th>\n",
       "      <td>A</td>\n",
       "      <td>78</td>\n",
       "      <td>72820.0000</td>\n",
       "      <td>933.589744</td>\n",
       "      <td>2023-07-09 22:41:37.943121</td>\n",
       "    </tr>\n",
       "    <tr>\n",
       "      <th>1</th>\n",
       "      <td>B</td>\n",
       "      <td>314</td>\n",
       "      <td>394974.0035</td>\n",
       "      <td>1257.878992</td>\n",
       "      <td>2023-07-09 22:41:37.943121</td>\n",
       "    </tr>\n",
       "  </tbody>\n",
       "</table>\n",
       "</div>"
      ],
      "text/plain": [
       "  grp   id          rev        arppu                   datetime\n",
       "0   A   78   72820.0000   933.589744 2023-07-09 22:41:34.548152\n",
       "1   B  313  393074.0035  1255.827487 2023-07-09 22:41:34.548152\n",
       "0   A   78   72820.0000   933.589744 2023-07-09 22:41:37.943121\n",
       "1   B  314  394974.0035  1257.878992 2023-07-09 22:41:37.943121"
      ]
     },
     "execution_count": 32,
     "metadata": {},
     "output_type": "execute_result"
    }
   ],
   "source": [
    "ARPPU"
   ]
  },
  {
   "cell_type": "markdown",
   "metadata": {},
   "source": [
    "На основе итоговых таблиц с метриками строятся графики:"
   ]
  },
  {
   "cell_type": "code",
   "execution_count": 33,
   "metadata": {},
   "outputs": [
    {
     "data": {
      "image/png": "[encoded data removed]",
      "text/plain": [
       "<Figure size 1080x360 with 3 Axes>"
      ]
     },
     "metadata": {
      "needs_background": "light"
     },
     "output_type": "display_data"
    }
   ],
   "source": [
    "metric_graph(CR, ARPAU, ARPPU)"
   ]
  }
 ],
 "metadata": {
  "kernelspec": {
   "display_name": "Python 3",
   "language": "python",
   "name": "python3"
  },
  "language_info": {
   "codemirror_mode": {
    "name": "ipython",
    "version": 3
   },
   "file_extension": ".py",
   "mimetype": "text/x-python",
   "name": "python",
   "nbconvert_exporter": "python",
   "pygments_lexer": "ipython3",
   "version": "3.7.3"
  }
 },
 "nbformat": 4,
 "nbformat_minor": 4
}
